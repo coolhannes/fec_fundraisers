{
 "cells": [
  {
   "cell_type": "code",
   "execution_count": 98,
   "metadata": {},
   "outputs": [],
   "source": [
    "import json\n",
    "import numpy as np\n",
    "import pandas as pd\n",
    "import requests\n",
    "from requests.adapters import HTTPAdapter, Retry\n",
    "from textpack import tp\n",
    "\n",
    "fec_api_key = open('fec_api_key.text').read()\n",
    "url_params = '&per_page=100&&min_amount=1000'\n",
    "\n",
    "s = requests.Session()\n",
    "retries = Retry(total=5, backoff_factor=1, status_forcelist=[ 502, 503, 504 ])\n",
    "s.mount('https://', HTTPAdapter(max_retries=retries))"
   ]
  },
  {
   "cell_type": "code",
   "execution_count": 91,
   "metadata": {},
   "outputs": [],
   "source": [
    "# Accept a comma separated list of FEC Committee IDs\n",
    "committee_ids_raw = 'C00791525, C00588772, C00410803, C00663658, C00768101'\n",
    "# Split by comma\n",
    "commitee_ids_raw = committee_ids_raw.split(',')\n",
    "# Strip out white space\n",
    "commitee_ids_raw = map(str.strip, commitee_ids_raw)\n",
    "# Use set to dedupe and set as an immutable tuple\n",
    "committee_ids = tuple(set(commitee_ids_raw))"
   ]
  },
  {
   "cell_type": "code",
   "execution_count": 90,
   "metadata": {},
   "outputs": [
    {
     "name": "stdout",
     "output_type": "stream",
     "text": [
      "Fetching FEC Data for committees\n",
      "Fetching data for MAGGIE FOR NH\n",
      "Fetching data for MICHAEL FRANKEN FOR IOWA, INC\n",
      "Fetching data for BREDESEN FOR SENATE\n",
      "Fetching data for CATHERINE CORTEZ MASTO FOR SENATE\n",
      "Fetching data for WHITEHOUSE FOR SENATE\n",
      "Fetching data for MARCUS FOR GEORGIA\n",
      "Data collection finished\n"
     ]
    }
   ],
   "source": [
    "\n",
    "print(f\"Fetching FEC Data for committees\")\n",
    "\n",
    "master_df = pd.DataFrame()\n",
    "\n",
    "for c in committee_ids:\n",
    "\n",
    "    fundraisers_list = []\n",
    "\n",
    "    comm_request_url = f\"https://api.open.fec.gov/v1/committee/{c}/?sort_nulls_last=false&sort_hide_null=false&page=1&sort_null_only=false&api_key={fec_api_key}&per_page=20&sort=name\"\n",
    "    comm_info = s.get(comm_request_url).json()\n",
    "    comm_info['results']\n",
    "    committee_name = comm_info['results'][0]['name']\n",
    "    print(f\"Fetching data for {committee_name}\")\n",
    "\n",
    "    request_url = f\"https://api.open.fec.gov/v1/schedules/schedule_b/?sort_hide_null=false&sort_null_only=false&api_key={fec_api_key}&committee_id={c}&disbursement_description=Fundraising&disbursement_description=Fundrais%25&disbursement_description=fundraising&disbursement_description=fundrais%25&per_page=20&sort=-disbursement_date{url_params}\"\n",
    "    response_info = s.get(request_url).json()\n",
    "\n",
    "    page_max = response_info['pagination']['count']\n",
    "\n",
    "    # If more than one page, keep getting data until we run out\n",
    "    if page_max > 1:\n",
    "\n",
    "        latest_results = response_info\n",
    "        \n",
    "        # Grab page one results\n",
    "        for results in latest_results['results']:\n",
    "            fundraisers_list.append([results['recipient_name'],results['disbursement_amount']])\n",
    "\n",
    "        # Grab all the other pages of results\n",
    "        while len(latest_results['results']) != 0:\n",
    "            last_index = latest_results['pagination']['last_indexes']['last_index']\n",
    "            last_disbursement_date = latest_results['pagination']['last_indexes']['last_disbursement_date']\n",
    "            # Build next page URL\n",
    "            next_request_url = f\"{request_url}&last_index={last_index}&last_disbursement_date={last_disbursement_date}\"\n",
    "            # Ask for the next page of JSON data\n",
    "            latest_results = s.get(next_request_url).json()\n",
    "            # Append more fundraiser names\n",
    "            for results in latest_results['results']:\n",
    "                fundraisers_list.append([results['recipient_name'],results['disbursement_amount']])\n",
    "\n",
    "    # If only one page of results, then produce a list of fundraisers for the committee\n",
    "    else:\n",
    "        for results in response_info['results']:\n",
    "            fundraisers_list.append([results['recipient_name'],results['disbursement_amount']])\n",
    "\n",
    "\n",
    "    fundraiser_df = pd.DataFrame(data=fundraisers_list, columns=['recipient_name', 'disbursement_amount'])\n",
    "    fundraiser_df['committee_name'] = committee_name\n",
    "    fundraiser_df['committee_id'] = c\n",
    "\n",
    "    master_df = pd.concat([master_df,fundraiser_df])\n",
    "\n",
    "print(\"Data collection finished\")\n"
   ]
  },
  {
   "cell_type": "code",
   "execution_count": 92,
   "metadata": {},
   "outputs": [
    {
     "name": "stdout",
     "output_type": "stream",
     "text": [
      "Grouping recipients across committees\n",
      "Building the TF-IDF, Cosine & Coord matrices...\n",
      "Building the group lookup...\n",
      "Adding grouped columns to data frame...\n",
      "Ready for export\n",
      "Adding grouped columns to data frame...\n"
     ]
    }
   ],
   "source": [
    "print(\"Grouping recipients across committees\")\n",
    "\n",
    "grouped_text = tp.TextPack(master_df, 'recipient_name', match_threshold=0.70, ngram_remove=r'[,-./]', ngram_length=3)\n",
    "grouped_text.run()\n",
    "grouped_text.add_grouped_column_to_data(column_name='Group')"
   ]
  },
  {
   "cell_type": "code",
   "execution_count": 97,
   "metadata": {},
   "outputs": [
    {
     "name": "stdout",
     "output_type": "stream",
     "text": [
      "                             committee_count  \\\n",
      "Group                                          \n",
      "ANNE LEWIS STRATEGIES LLC                  3   \n",
      "BETH FOSTER CONSULTANTS LLC                2   \n",
      "\n",
      "                                                                  committee(s)  \n",
      "Group                                                                           \n",
      "ANNE LEWIS STRATEGIES LLC    [CATHERINE CORTEZ MASTO FOR SENATE, WHITEHOUSE...  \n",
      "BETH FOSTER CONSULTANTS LLC  [MAGGIE FOR NH, CATHERINE CORTEZ MASTO FOR SEN...  \n"
     ]
    }
   ],
   "source": [
    "summary_table = master_df.groupby('Group')['committee_name'].agg(['nunique','unique'])\n",
    "summary_table = summary_table.rename(columns={'unique':'committee(s)','nunique' : 'committee_count'})\n",
    "print(summary_table[summary_table['committee_count'] > 1])"
   ]
  }
 ],
 "metadata": {
  "kernelspec": {
   "display_name": "Python 3.9.0 64-bit ('3.9.0')",
   "language": "python",
   "name": "python3"
  },
  "language_info": {
   "codemirror_mode": {
    "name": "ipython",
    "version": 3
   },
   "file_extension": ".py",
   "mimetype": "text/x-python",
   "name": "python",
   "nbconvert_exporter": "python",
   "pygments_lexer": "ipython3",
   "version": "3.9.0"
  },
  "orig_nbformat": 4,
  "vscode": {
   "interpreter": {
    "hash": "1ae96139d4d0758c1674496f63aea03b4ff2a47028fc2db28fc7c9795ba85447"
   }
  }
 },
 "nbformat": 4,
 "nbformat_minor": 2
}
